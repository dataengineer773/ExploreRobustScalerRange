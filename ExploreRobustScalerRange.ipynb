{
 "cells": [
  {
   "cell_type": "code",
   "execution_count": 1,
   "id": "d5f97432-0258-4462-aaae-f9915ed55746",
   "metadata": {},
   "outputs": [],
   "source": [
    "# explore the scaling range of the robust scaler transform\n",
    "from numpy import mean\n",
    "from numpy import std\n",
    "from pandas import read_csv\n",
    "from sklearn.model_selection import cross_val_score\n",
    "from sklearn.preprocessing import RobustScaler\n",
    "from sklearn.model_selection import RepeatedStratifiedKFold\n",
    "from sklearn.neighbors import KNeighborsClassifier\n",
    "from sklearn.preprocessing import LabelEncoder\n",
    "from sklearn.pipeline import Pipeline\n",
    "from sklearn.preprocessing import LabelEncoder\n",
    "from matplotlib import pyplot"
   ]
  },
  {
   "cell_type": "code",
   "execution_count": 2,
   "id": "9fdf72a4-7647-4117-bca7-26d9a8b668a3",
   "metadata": {},
   "outputs": [],
   "source": [
    "# get the dataset\n",
    "def get_dataset():\n",
    "    # load dataset\n",
    "    dataset = read_csv('diabetes.csv', header=0)\n",
    "    data = dataset.values\n",
    "    # separate into input and output column\n",
    "    X, y = data[:, :-1], data[:, -1]\n",
    "    # ensure inputs are floats and output is an integer label\n",
    "    X = X.astype('float32')\n",
    "    y = LabelEncoder().fit_transform(y.astype('str'))\n",
    "    return X, y"
   ]
  },
  {
   "cell_type": "code",
   "execution_count": 3,
   "id": "26d77e00-ee25-435e-a7f4-597dde63e1b6",
   "metadata": {},
   "outputs": [],
   "source": [
    "# get list of modek evaluate\n",
    "def get_models():\n",
    "    models = dict()\n",
    "    for value in [ 1, 5, 10,15, 20, 25, 30]:\n",
    "        # define pipeline\n",
    "        trans = RobustScaler(quantile_range=(value, 100-value))\n",
    "        model = KNeighborsClassifier()\n",
    "        models[str(value)] = Pipeline(steps=[('t', trans), ('m', model)])\n",
    "    return models"
   ]
  },
  {
   "cell_type": "code",
   "execution_count": 4,
   "id": "332c4c7e-6ba9-40e2-9dfb-27165f69446f",
   "metadata": {},
   "outputs": [],
   "source": [
    "# evaluate a given model model using cross_validation\n",
    "def evaluate_model(model, X, y):\n",
    "    cv = RepeatedStratifiedKFold(n_splits=10, n_repeats=3, random_state=1)\n",
    "    scores = cross_val_score(model, X, y, scoring='accuracy', cv=cv, n_jobs=-1)\n",
    "    return scores"
   ]
  },
  {
   "cell_type": "code",
   "execution_count": 5,
   "id": "22f6f82f-e4e8-4ec6-86b4-ca2c6ec11c21",
   "metadata": {},
   "outputs": [],
   "source": [
    "# defien dataset\n",
    "X, y = get_dataset()"
   ]
  },
  {
   "cell_type": "code",
   "execution_count": 6,
   "id": "45200a33-3471-445c-9d58-216b282408da",
   "metadata": {},
   "outputs": [],
   "source": [
    "# get to models to evaluate\n",
    "models = get_models()"
   ]
  },
  {
   "cell_type": "code",
   "execution_count": 7,
   "id": "cbda04e3-ad56-4251-bd54-1f0f1ac43296",
   "metadata": {},
   "outputs": [
    {
     "name": "stdout",
     "output_type": "stream",
     "text": [
      ">1 1f (0.054)\n",
      ">5 1f (0.051)\n",
      ">10 1f (0.047)\n",
      ">15 1f (0.045)\n",
      ">20 1f (0.050)\n",
      ">25 1f (0.044)\n",
      ">30 1f (0.042)\n"
     ]
    }
   ],
   "source": [
    "# evaluate the models and store results\n",
    "results, names = list(), list()\n",
    "for name, model in models.items():\n",
    "    scores = evaluate_model(model, X, y)\n",
    "    results.append(scores)\n",
    "    names.append(name)\n",
    "    print('>%s %.3f (%.3f)' % (name, mean(scores), std(scores)))"
   ]
  },
  {
   "cell_type": "code",
   "execution_count": 8,
   "id": "e685f5bf-1c1e-432c-8965-109d4ce3e243",
   "metadata": {},
   "outputs": [
    {
     "data": {
      "image/png": "[encoded data removed]",
      "text/plain": [
       "<Figure size 432x288 with 1 Axes>"
      ]
     },
     "metadata": {
      "needs_background": "light"
     },
     "output_type": "display_data"
    }
   ],
   "source": [
    "# plot model performance for comparision\n",
    "pyplot.boxplot(results, labels=names, showmeans=True)\n",
    "pyplot.show()"
   ]
  },
  {
   "cell_type": "code",
   "execution_count": null,
   "id": "54fc3d11-ae1b-441d-9696-a35c17a1c0d9",
   "metadata": {},
   "outputs": [],
   "source": []
  },
  {
   "cell_type": "code",
   "execution_count": null,
   "id": "536dcb8c-10f0-493a-96a5-3560b6d920cd",
   "metadata": {},
   "outputs": [],
   "source": []
  }
 ],
 "metadata": {
  "kernelspec": {
   "display_name": "Python 3 (ipykernel)",
   "language": "python",
   "name": "python3"
  },
  "language_info": {
   "codemirror_mode": {
    "name": "ipython",
    "version": 3
   },
   "file_extension": ".py",
   "mimetype": "text/x-python",
   "name": "python",
   "nbconvert_exporter": "python",
   "pygments_lexer": "ipython3",
   "version": "3.10.12"
  }
 },
 "nbformat": 4,
 "nbformat_minor": 5
}
